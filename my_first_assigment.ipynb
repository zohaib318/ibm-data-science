{
 "cells": [
  {
   "cell_type": "markdown",
   "id": "43966848",
   "metadata": {},
   "source": [
    "# My Jupyter Notebook on IBM Data Science Experience\n"
   ]
  },
  {
   "cell_type": "markdown",
   "id": "725459bb",
   "metadata": {},
   "source": [
    "**zohaib khan**\n",
    "\n",
    "Data Scientist (or your desired/current occupation)\n"
   ]
  },
  {
   "cell_type": "markdown",
   "id": "136f84b5",
   "metadata": {},
   "source": [
    "*I am interested in data science because it allows me to turn data into actionable insights. I believe data science is the key to unlocking the full potential of data in today's world.*\n"
   ]
  },
  {
   "cell_type": "markdown",
   "id": "c055a48a",
   "metadata": {},
   "source": [
    "### This code calculates the sum of 1 + 1\n"
   ]
  },
  {
   "cell_type": "code",
   "execution_count": 3,
   "id": "cf47aeb0",
   "metadata": {},
   "outputs": [
    {
     "data": {
      "text/plain": [
       "2"
      ]
     },
     "execution_count": 3,
     "metadata": {},
     "output_type": "execute_result"
    }
   ],
   "source": [
    "1 + 1\n"
   ]
  },
  {
   "cell_type": "markdown",
   "id": "8a1e1932",
   "metadata": {},
   "source": [
    "---\n",
    "**Summary**:\n",
    "\n",
    "- The notebook includes a simple example of a code cell.\n",
    "- The calculation performed was `1 + 1`.\n",
    "\n",
    "1. This is a numbered list.\n",
    "2. It has multiple items.\n",
    "\n",
    "Below is a table:\n",
    "\n",
    "| Column 1 | Column 2 |\n",
    "|----------|----------|\n",
    "| Item 1   | Item 2   |\n",
    "| Item 3   | Item 4   |\n",
    "\n",
    "Here is a [link to IBM Watson Studio](https://dataplatform.cloud.ibm.com/).\n",
    "\n"
   ]
  },
  {
   "cell_type": "code",
   "execution_count": null,
   "id": "d5c21168",
   "metadata": {},
   "outputs": [],
   "source": []
  }
 ],
 "metadata": {
  "kernelspec": {
   "display_name": "Python 3 (ipykernel)",
   "language": "python",
   "name": "python3"
  },
  "language_info": {
   "codemirror_mode": {
    "name": "ipython",
    "version": 3
   },
   "file_extension": ".py",
   "mimetype": "text/x-python",
   "name": "python",
   "nbconvert_exporter": "python",
   "pygments_lexer": "ipython3",
   "version": "3.11.5"
  }
 },
 "nbformat": 4,
 "nbformat_minor": 5
}
